{
 "cells": [
  {
   "cell_type": "code",
   "execution_count": 2,
   "metadata": {
    "collapsed": true
   },
   "outputs": [],
   "source": [
    "from numpy import *\n",
    "import operator"
   ]
  },
  {
   "cell_type": "code",
   "execution_count": 7,
   "metadata": {
    "collapsed": true
   },
   "outputs": [],
   "source": [
    "def create_data_set():\n",
    "    group=array([[1.0,1.1],[1.0,1.0],[0,0],[0,0.1]])\n",
    "    labels=['A','A','B','B']\n",
    "    return group,labels"
   ]
  },
  {
   "cell_type": "code",
   "execution_count": 12,
   "metadata": {
    "collapsed": true
   },
   "outputs": [],
   "source": [
    "def classfy(input,data_set,labels,k):\n",
    "    dataset_size=data_set.shape[0]\n",
    "    #将输入样本点重复多次，求输入与数据集中每一个样本的距离\n",
    "    diffMat=tile(input,(dataset_size,1))-data_set\n",
    "    sqdiffMat=diffMat**2\n",
    "    sqdistance=sqdiffMat.sum(axis=1)\n",
    "    distance=sqdistance**0.5\n",
    "    \n",
    "    sorted_dist_indicies=distance.argsort()\n",
    "    class_count={}#dict\n",
    "    #从最近的k个样本中统计属于某一类的个数，占多数的类为输入样本的类\n",
    "    for i in range(k):\n",
    "        vote_label=labels[sorted_dist_indicies[i]]\n",
    "        class_count[vote_label]=class_count.get(vote_label,0)+1\n",
    "    #对字典进行排序，按照值来反向排序。   \n",
    "    sorted_class_count=sorted(class_count.iteritems(),key=operator.itemgetter(1),reverse=True)\n",
    "    return sorted_class_count[0][0]"
   ]
  },
  {
   "cell_type": "code",
   "execution_count": 17,
   "metadata": {
    "collapsed": false
   },
   "outputs": [
    {
     "data": {
      "text/plain": [
       "'A'"
      ]
     },
     "execution_count": 17,
     "metadata": {},
     "output_type": "execute_result"
    }
   ],
   "source": [
    "t,l=create_data_set()\n",
    "classfy([0.85,1],t,l,3)"
   ]
  },
  {
   "cell_type": "code",
   "execution_count": null,
   "metadata": {
    "collapsed": true
   },
   "outputs": [],
   "source": [
    "def file2matrix(filename):\n",
    "    fr=open(filename)\n",
    "    array_lines=fr.readlines()\n",
    "    number_lines=len(array_lines)\n",
    "    returnMat=zeros((number_lines,3))\n",
    "    "
   ]
  }
 ],
 "metadata": {
  "anaconda-cloud": {},
  "kernelspec": {
   "display_name": "Python [conda root]",
   "language": "python",
   "name": "conda-root-py"
  },
  "language_info": {
   "codemirror_mode": {
    "name": "ipython",
    "version": 2
   },
   "file_extension": ".py",
   "mimetype": "text/x-python",
   "name": "python",
   "nbconvert_exporter": "python",
   "pygments_lexer": "ipython2",
   "version": "2.7.12"
  }
 },
 "nbformat": 4,
 "nbformat_minor": 1
}
